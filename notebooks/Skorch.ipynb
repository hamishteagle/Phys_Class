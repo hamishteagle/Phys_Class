{
 "cells": [
  {
   "cell_type": "markdown",
   "metadata": {},
   "source": [
    "Import all our packages and local bits"
   ]
  },
  {
   "cell_type": "code",
   "execution_count": 1,
   "metadata": {},
   "outputs": [],
   "source": [
    "import sys\n",
    "sys.path.append(\"../\")"
   ]
  },
  {
   "cell_type": "code",
   "execution_count": 2,
   "metadata": {},
   "outputs": [
    {
     "name": "stdout",
     "output_type": "stream",
     "text": [
      "env: PYANALYSISUTILS=/user/hteagle/AnalysisDirectory/Rel21/Base.21.2.72/athena/PyAnalysisUtils\n"
     ]
    }
   ],
   "source": [
    "%env PYANALYSISUTILS=/user/hteagle/AnalysisDirectory/Rel21/Base.21.2.72/athena/PyAnalysisUtils"
   ]
  },
  {
   "cell_type": "code",
   "execution_count": 3,
   "metadata": {},
   "outputs": [
    {
     "name": "stderr",
     "output_type": "stream",
     "text": [
      "Driver       :: INFO     ::       Setting up Driver from /user/hteagle/AnalysisDirectory/Rel21/Base.21.2.72/athena/PyAnalysisUtils/Driver.py\n",
      "Driver       :: INFO     ::       NO VARIABLES SUPPLIED ON THE COMMAND LINE, JUST DRAWING ONE BIN\n",
      "Driver       :: INFO     ::       Variables from the command line...\n",
      "Driver       :: INFO     ::       \t {'var': '1', 'nbins': 1, 'xmin': 0.0, 'xmax': 2.0}\n"
     ]
    },
    {
     "name": "stdout",
     "output_type": "stream",
     "text": [
      "No ROOT module avoid using functions with root\n"
     ]
    }
   ],
   "source": [
    "sys.argv = [\"--at all\"] \n",
    "import XGB_board"
   ]
  },
  {
   "cell_type": "code",
   "execution_count": 4,
   "metadata": {},
   "outputs": [],
   "source": [
    "import modules\n",
    "import numpy as np\n",
    "import torch.nn"
   ]
  },
  {
   "cell_type": "code",
   "execution_count": 5,
   "metadata": {},
   "outputs": [],
   "source": [
    "from skorch import NeuralNetClassifier, callbacks"
   ]
  },
  {
   "cell_type": "markdown",
   "metadata": {},
   "source": [
    "Gather our data"
   ]
  },
  {
   "cell_type": "code",
   "execution_count": 6,
   "metadata": {},
   "outputs": [],
   "source": [
    "X = np.load(\"/user/hteagle/AnalysisDirectory/Rel21/Base.21.2.72/athena/PyAnalysisUtils/ML/NN/data/processed/xgboost-Wh_nominal_reco/X_train.npy\").astype(np.float32)\n",
    "Y = np.load(\"/user/hteagle/AnalysisDirectory/Rel21/Base.21.2.72/athena/PyAnalysisUtils/ML/NN/data/processed/xgboost-Wh_nominal_reco/Y_train.npy\").astype(np.int64)\n",
    "W = np.prod(np.load(\"/user/hteagle/AnalysisDirectory/Rel21/Base.21.2.72/athena/PyAnalysisUtils/ML/NN/data/processed/xgboost-Wh_nominal_reco/W_train.npy\").astype(np.float32),axis=1)\n",
    "X_mini = X[:100000]\n",
    "Y_mini = Y[:100000]\n",
    "W_mini = W[:100000]\n"
   ]
  },
  {
   "cell_type": "code",
   "execution_count": 7,
   "metadata": {},
   "outputs": [],
   "source": [
    "X_test = np.load(\"/user/hteagle/AnalysisDirectory/Rel21/Base.21.2.72/athena/PyAnalysisUtils/ML/NN/data/processed/xgboost-Wh_nominal_reco/X_test.npy\").astype(np.float32)\n",
    "Y_test = np.load(\"/user/hteagle/AnalysisDirectory/Rel21/Base.21.2.72/athena/PyAnalysisUtils/ML/NN/data/processed/xgboost-Wh_nominal_reco/Y_test.npy\").astype(np.int64)\n",
    "W_test = np.prod(np.load(\"/user/hteagle/AnalysisDirectory/Rel21/Base.21.2.72/athena/PyAnalysisUtils/ML/NN/data/processed/xgboost-Wh_nominal_reco/W_test.npy\").astype(np.float32),axis=1)\n",
    "\n",
    "X_test_mini = X_test[:100000]\n",
    "Y_test_mini = Y_test[:100000]\n",
    "W_test_mini = W_test[:100000]"
   ]
  },
  {
   "cell_type": "code",
   "execution_count": 8,
   "metadata": {},
   "outputs": [
    {
     "name": "stdout",
     "output_type": "stream",
     "text": [
      "{'color': 'green'}\n",
      "{'color': 'red'}\n"
     ]
    },
    {
     "data": {
      "text/plain": [
       "array([[ 1.6381232 ],\n",
       "       [-0.38302758],\n",
       "       [ 0.16385408],\n",
       "       ...,\n",
       "       [ 0.64452076],\n",
       "       [-1.112225  ],\n",
       "       [ 1.9580181 ]], dtype=float32)"
      ]
     },
     "execution_count": 8,
     "metadata": {},
     "output_type": "execute_result"
    },
    {
     "data": {
      "image/png": "[encoded data removed]",
      "text/plain": [
       "<Figure size 432x288 with 1 Axes>"
      ]
     },
     "metadata": {
      "needs_background": "light"
     },
     "output_type": "display_data"
    }
   ],
   "source": [
    "import matplotlib.pyplot as plt\n",
    "import utils\n",
    "plt.figure()\n",
    "X_sub = X_test[:, 5:6]\n",
    "X_sub_signal = X_sub[np.where(Y_test==0)]\n",
    "X_sub_bkg = X_sub[np.where(Y_test!=0)]\n",
    "plot_var = utils.utils.hist_errorbars(X_sub_bkg, normed=True, color=\"green\")\n",
    "plot_var = utils.utils.hist_errorbars(X_sub_signal, normed=True, color=\"red\")\n",
    "#plt.show()\n",
    "X_sub"
   ]
  },
  {
   "cell_type": "code",
   "execution_count": 9,
   "metadata": {},
   "outputs": [],
   "source": [
    "# #Fake data \n",
    "# from sklearn.datasets import make_classification\n",
    "# X, Y = make_classification(10000, 20, n_classes=5, n_informative=10, random_state=0, class_sep=5)\n",
    "# X, X_test = X[:8000],X[8000:]\n",
    "# Y, Y_test = Y[:8000],Y[8000:]\n",
    "# #X_test, Y_test = make_classification(10000, 20, n_informative=10, random_state=0)\n",
    "# X, Y = X.astype(np.float32), Y.astype(np.int64)\n",
    "# X_test, Y_test = X_test.astype(np.float32), Y_test.astype(np.int64)"
   ]
  },
  {
   "cell_type": "code",
   "execution_count": 16,
   "metadata": {},
   "outputs": [],
   "source": [
    "module = modules.Cat(X_size=len(X[0]), num_classes=5)\n",
    "#module = modules.ClassifierModule()"
   ]
  },
  {
   "cell_type": "code",
   "execution_count": 17,
   "metadata": {},
   "outputs": [],
   "source": [
    "def to_one_hot(Y):\n",
    "    num_classes = 5\n",
    "    targets = Y.reshape(-1)\n",
    "    return np.eye(num_classes)[targets]"
   ]
  },
  {
   "cell_type": "code",
   "execution_count": 18,
   "metadata": {},
   "outputs": [],
   "source": [
    "#net = NeuralNetClassifier( module, max_epochs=10, lr=1e-2, iterator_train__shuffle=True, callbacks=[callbacks.ProgressBar()], batch_size=100)\n",
    "net = NeuralNetClassifier( module, max_epochs=10, optimizer = torch.optim.Adam, optimizer__lr=1e-3, iterator_train__shuffle=True, callbacks=[callbacks.ProgressBar(), callbacks.EpochScoring('roc_auc_ovr', target_extractor=to_one_hot, lower_is_better=False)], batch_size=100)"
   ]
  },
  {
   "cell_type": "code",
   "execution_count": 19,
   "metadata": {},
   "outputs": [
    {
     "data": {
      "application/vnd.jupyter.widget-view+json": {
       "model_id": "",
       "version_major": 2,
       "version_minor": 0
      },
      "text/plain": [
       "HBox(children=(HTML(value=''), FloatProgress(value=0.0, max=31672.0), HTML(value='')))"
      ]
     },
     "metadata": {},
     "output_type": "display_data"
    },
    {
     "name": "stdout",
     "output_type": "stream",
     "text": [
      "  epoch    roc_auc_ovr    train_loss    valid_acc    valid_loss      dur\n",
      "-------  -------------  ------------  -----------  ------------  -------\n",
      "      1         \u001b[36m0.7717\u001b[0m        \u001b[32m0.5936\u001b[0m       \u001b[35m0.8353\u001b[0m        \u001b[31m0.5809\u001b[0m  97.7589\n"
     ]
    },
    {
     "data": {
      "application/vnd.jupyter.widget-view+json": {
       "model_id": "",
       "version_major": 2,
       "version_minor": 0
      },
      "text/plain": [
       "HBox(children=(HTML(value=''), FloatProgress(value=0.0, max=31672.0), HTML(value='')))"
      ]
     },
     "metadata": {},
     "output_type": "display_data"
    },
    {
     "name": "stdout",
     "output_type": "stream",
     "text": [
      "      2         \u001b[36m0.7752\u001b[0m        \u001b[32m0.5772\u001b[0m       \u001b[35m0.8355\u001b[0m        \u001b[31m0.5756\u001b[0m  101.6954\n"
     ]
    },
    {
     "data": {
      "application/vnd.jupyter.widget-view+json": {
       "model_id": "",
       "version_major": 2,
       "version_minor": 0
      },
      "text/plain": [
       "HBox(children=(HTML(value=''), FloatProgress(value=0.0, max=31672.0), HTML(value='')))"
      ]
     },
     "metadata": {},
     "output_type": "display_data"
    },
    {
     "name": "stdout",
     "output_type": "stream",
     "text": [
      "      3         \u001b[36m0.7795\u001b[0m        \u001b[32m0.5738\u001b[0m       \u001b[35m0.8361\u001b[0m        \u001b[31m0.5711\u001b[0m  100.0376\n"
     ]
    },
    {
     "data": {
      "application/vnd.jupyter.widget-view+json": {
       "model_id": "",
       "version_major": 2,
       "version_minor": 0
      },
      "text/plain": [
       "HBox(children=(HTML(value=''), FloatProgress(value=0.0, max=31672.0), HTML(value='')))"
      ]
     },
     "metadata": {},
     "output_type": "display_data"
    },
    {
     "name": "stdout",
     "output_type": "stream",
     "text": [
      "      4         \u001b[36m0.7804\u001b[0m        \u001b[32m0.5715\u001b[0m       0.8358        \u001b[31m0.5711\u001b[0m  98.0309\n"
     ]
    },
    {
     "data": {
      "application/vnd.jupyter.widget-view+json": {
       "model_id": "",
       "version_major": 2,
       "version_minor": 0
      },
      "text/plain": [
       "HBox(children=(HTML(value=''), FloatProgress(value=0.0, max=31672.0), HTML(value='')))"
      ]
     },
     "metadata": {},
     "output_type": "display_data"
    },
    {
     "name": "stdout",
     "output_type": "stream",
     "text": [
      "      5         \u001b[36m0.7819\u001b[0m        \u001b[32m0.5699\u001b[0m       \u001b[35m0.8366\u001b[0m        \u001b[31m0.5698\u001b[0m  98.6545\n"
     ]
    },
    {
     "data": {
      "application/vnd.jupyter.widget-view+json": {
       "model_id": "",
       "version_major": 2,
       "version_minor": 0
      },
      "text/plain": [
       "HBox(children=(HTML(value=''), FloatProgress(value=0.0, max=31672.0), HTML(value='')))"
      ]
     },
     "metadata": {},
     "output_type": "display_data"
    },
    {
     "name": "stdout",
     "output_type": "stream",
     "text": [
      "      6         \u001b[36m0.7823\u001b[0m        \u001b[32m0.5689\u001b[0m       0.8363        \u001b[31m0.5696\u001b[0m  99.7811\n"
     ]
    },
    {
     "data": {
      "application/vnd.jupyter.widget-view+json": {
       "model_id": "",
       "version_major": 2,
       "version_minor": 0
      },
      "text/plain": [
       "HBox(children=(HTML(value=''), FloatProgress(value=0.0, max=31672.0), HTML(value='')))"
      ]
     },
     "metadata": {},
     "output_type": "display_data"
    },
    {
     "name": "stdout",
     "output_type": "stream",
     "text": [
      "      7         \u001b[36m0.7838\u001b[0m        \u001b[32m0.5679\u001b[0m       \u001b[35m0.8367\u001b[0m        \u001b[31m0.5668\u001b[0m  98.6319\n"
     ]
    },
    {
     "data": {
      "application/vnd.jupyter.widget-view+json": {
       "model_id": "",
       "version_major": 2,
       "version_minor": 0
      },
      "text/plain": [
       "HBox(children=(HTML(value=''), FloatProgress(value=0.0, max=31672.0), HTML(value='')))"
      ]
     },
     "metadata": {},
     "output_type": "display_data"
    },
    {
     "name": "stdout",
     "output_type": "stream",
     "text": [
      "      8         \u001b[36m0.7841\u001b[0m        \u001b[32m0.5673\u001b[0m       \u001b[35m0.8368\u001b[0m        \u001b[31m0.5664\u001b[0m  97.2205\n"
     ]
    },
    {
     "data": {
      "application/vnd.jupyter.widget-view+json": {
       "model_id": "",
       "version_major": 2,
       "version_minor": 0
      },
      "text/plain": [
       "HBox(children=(HTML(value=''), FloatProgress(value=0.0, max=31672.0), HTML(value='')))"
      ]
     },
     "metadata": {},
     "output_type": "display_data"
    },
    {
     "name": "stdout",
     "output_type": "stream",
     "text": [
      "      9         \u001b[36m0.7842\u001b[0m        \u001b[32m0.5668\u001b[0m       \u001b[35m0.8369\u001b[0m        0.5705  98.0224\n"
     ]
    },
    {
     "data": {
      "application/vnd.jupyter.widget-view+json": {
       "model_id": "",
       "version_major": 2,
       "version_minor": 0
      },
      "text/plain": [
       "HBox(children=(HTML(value=''), FloatProgress(value=0.0, max=31672.0), HTML(value='')))"
      ]
     },
     "metadata": {},
     "output_type": "display_data"
    },
    {
     "name": "stdout",
     "output_type": "stream",
     "text": [
      "     10         \u001b[36m0.7849\u001b[0m        \u001b[32m0.5665\u001b[0m       \u001b[35m0.8369\u001b[0m        0.5669  95.4521\n",
      "CPU times: user 17min 42s, sys: 13 s, total: 17min 55s\n",
      "Wall time: 16min 53s\n"
     ]
    },
    {
     "data": {
      "text/plain": [
       "<class 'skorch.classifier.NeuralNetClassifier'>[initialized](\n",
       "  module_=Cat(\n",
       "    (dropout10): AlphaDropout(p=0.1, inplace=False)\n",
       "    (dropout20): AlphaDropout(p=0.2, inplace=False)\n",
       "    (dropout30): AlphaDropout(p=0.3, inplace=False)\n",
       "    (linear_input): Linear(in_features=35, out_features=35, bias=True)\n",
       "    (linear): Linear(in_features=35, out_features=35, bias=True)\n",
       "    (linear_output): Linear(in_features=35, out_features=5, bias=True)\n",
       "  ),\n",
       ")"
      ]
     },
     "execution_count": 19,
     "metadata": {},
     "output_type": "execute_result"
    }
   ],
   "source": [
    "\n",
    "%time net.fit(X,Y)"
   ]
  },
  {
   "cell_type": "code",
   "execution_count": 20,
   "metadata": {},
   "outputs": [],
   "source": [
    "import tensorboard_modules\n",
    "import utils.utils"
   ]
  },
  {
   "cell_type": "code",
   "execution_count": 21,
   "metadata": {},
   "outputs": [
    {
     "name": "stderr",
     "output_type": "stream",
     "text": [
      "Driver       :: INFO     ::       Setting up Driver from /user/hteagle/AnalysisDirectory/Rel21/Base.21.2.72/athena/PyAnalysisUtils/Driver.py\n",
      "Driver       :: INFO     ::       NO VARIABLES SUPPLIED ON THE COMMAND LINE, JUST DRAWING ONE BIN\n",
      "Driver       :: INFO     ::       Variables from the command line...\n",
      "Driver       :: INFO     ::       \t {'var': '1', 'nbins': 1, 'xmin': 0.0, 'xmax': 2.0}\n"
     ]
    },
    {
     "name": "stdout",
     "output_type": "stream",
     "text": [
      "New output:runs/2020-12-30/16:46:38.972511\n"
     ]
    }
   ],
   "source": [
    "import importlib\n",
    "importlib.reload(tensorboard_modules)\n",
    "#import utils.utils\n",
    "importlib.reload(utils.utils)\n",
    "board = tensorboard_modules.board_object(net,X_mini,\"cpu\")"
   ]
  },
  {
   "cell_type": "code",
   "execution_count": 22,
   "metadata": {},
   "outputs": [
    {
     "name": "stdout",
     "output_type": "stream",
     "text": [
      "{'label': 'test_bkg', 'color': 'green'}\n",
      "{'label': 'test_sig', 'color': 'red'}\n"
     ]
    },
    {
     "data": {
      "image/png": "[encoded data removed]",
      "text/plain": [
       "<Figure size 432x288 with 1 Axes>"
      ]
     },
     "metadata": {
      "needs_background": "light"
     },
     "output_type": "display_data"
    }
   ],
   "source": [
    "plot = board.draw_train_validation(X, Y, W, X_test, Y_test, W_test, net, draw=False)\n",
    "\n",
    "#plot = board.draw_train_validation(X_mini, Y_mini, W_mini, X_test_mini, Y_test_mini, W_test_mini, net, draw=False)\n"
   ]
  },
  {
   "cell_type": "code",
   "execution_count": null,
   "metadata": {},
   "outputs": [],
   "source": []
  }
 ],
 "metadata": {
  "kernelspec": {
   "display_name": "Python 3",
   "language": "python",
   "name": "python3"
  },
  "language_info": {
   "codemirror_mode": {
    "name": "ipython",
    "version": 3
   },
   "file_extension": ".py",
   "mimetype": "text/x-python",
   "name": "python",
   "nbconvert_exporter": "python",
   "pygments_lexer": "ipython3",
   "version": "3.8.5"
  }
 },
 "nbformat": 4,
 "nbformat_minor": 4
}
