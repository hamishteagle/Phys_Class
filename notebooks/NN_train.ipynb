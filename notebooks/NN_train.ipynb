{
 "cells": [
  {
   "cell_type": "code",
   "execution_count": 1,
   "metadata": {},
   "outputs": [],
   "source": [
    "%config IPCompleter.greedy=True"
   ]
  },
  {
   "cell_type": "code",
   "execution_count": 2,
   "metadata": {},
   "outputs": [],
   "source": [
    "import sys\n",
    "import torch"
   ]
  },
  {
   "cell_type": "code",
   "execution_count": null,
   "metadata": {},
   "outputs": [],
   "source": []
  },
  {
   "cell_type": "code",
   "execution_count": 3,
   "metadata": {},
   "outputs": [],
   "source": [
    "sys.path.append(\"../\")\n",
    "sys.argv = [\"foo\",\"-r\",\"preSelection\"]"
   ]
  },
  {
   "cell_type": "code",
   "execution_count": 4,
   "metadata": {},
   "outputs": [],
   "source": [
    "import modules"
   ]
  },
  {
   "cell_type": "code",
   "execution_count": 5,
   "metadata": {},
   "outputs": [
    {
     "name": "stderr",
     "output_type": "stream",
     "text": [
      "Driver       :: INFO     ::       Setting up Driver from /nfs/dust/atlas/user/hteagle/PyAnalysisUtils/Driver.py\n",
      "Driver       :: INFO     ::       NO VARIABLES SUPPLIED ON THE COMMAND LINE, JUST DRAWING ONE BIN\n",
      "Driver       :: INFO     ::       Variables from the command line...\n",
      "Driver       :: INFO     ::       \t {'var': '1', 'nbins': 1, 'xmin': 0.0, 'xmax': 2.0}\n"
     ]
    }
   ],
   "source": [
    "import Driver\n",
    "from dataset import bbMeT_NN\n",
    "from Driver import logging\n",
    "msg=logging.getLogger(\"Train\")"
   ]
  },
  {
   "cell_type": "code",
   "execution_count": 6,
   "metadata": {},
   "outputs": [],
   "source": [
    "import NN_driver\n",
    "NN_driver.load_NN_variables()"
   ]
  },
  {
   "cell_type": "code",
   "execution_count": 7,
   "metadata": {},
   "outputs": [
    {
     "name": "stderr",
     "output_type": "stream",
     "text": [
      "DatasetLoader :: INFO     ::       Attempt to load:/nfs/dust/atlas/user/hteagle/PyAnalysisUtils/ML/NN/data/processed/data_Wh_21_2_112_reco_sig.pt\n"
     ]
    },
    {
     "name": "stdout",
     "output_type": "stream",
     "text": [
      "Welcome to JupyROOT 6.18/00\n",
      "desy path: /nfs/dust/atlas/user/hteagle/Wh_samples/Wh_21.2.112/MC/\n"
     ]
    },
    {
     "data": {
      "text/plain": [
       "device(type='cuda', index=0)"
      ]
     },
     "execution_count": 7,
     "metadata": {},
     "output_type": "execute_result"
    }
   ],
   "source": [
    "device = torch.device(\"cuda:0\" if torch.cuda.is_available() else \"cpu\")\n",
    "dataset = bbMeT_NN(root='data', device=device, transform=None)\n",
    "device"
   ]
  },
  {
   "cell_type": "code",
   "execution_count": 8,
   "metadata": {},
   "outputs": [],
   "source": [
    "num_workers = NN_driver.num_workers\n",
    "batch_size = NN_driver.batch_size\n",
    "split_fraction = NN_driver.split_fraction\n",
    "epochs = NN_driver.epochs\n",
    "lr = NN_driver.lr\n",
    "weight_decay=NN_driver.weight_decay\n",
    "class_names=NN_driver.class_names\n",
    "num_classes = len(NN_driver.class_names)\n",
    "doReWeight=NN_driver.doReWeight\n",
    "doWeighted=NN_driver.doWeighted"
   ]
  },
  {
   "cell_type": "code",
   "execution_count": 9,
   "metadata": {},
   "outputs": [],
   "source": [
    "# import numpy as np\n",
    "# from torch.utils.data.sampler import SubsetRandomSampler\n",
    "# indices = list(range(len(dataset)))\n",
    "# split = int(np.floor(split_fraction * len(dataset)))\n",
    "# train_indices,test_indices = indices[:split], indices[split:]\n",
    "epochs=30\n",
    "# train_sampler = SubsetRandomSampler(train_indices)\n",
    "# test_sampler = SubsetRandomSampler(test_indices)"
   ]
  },
  {
   "cell_type": "code",
   "execution_count": 10,
   "metadata": {},
   "outputs": [],
   "source": [
    "model = modules.Cat(X_size=len(dataset.X_data[0]),num_classes=num_classes).to(device)\n",
    "criterion = torch.nn.CrossEntropyLoss()\n",
    "optimiser = torch.optim.Adam(model.parameters(), lr=lr , weight_decay=weight_decay)\n",
    "model=model.float()"
   ]
  },
  {
   "cell_type": "code",
   "execution_count": 11,
   "metadata": {},
   "outputs": [
    {
     "name": "stdout",
     "output_type": "stream",
     "text": [
      "New output:full_log/2020-08-20/12:46:29.156165\n"
     ]
    },
    {
     "name": "stderr",
     "output_type": "stream",
     "text": [
      "../modules.py:64: UserWarning: Implicit dimension choice for softmax has been deprecated. Change the call to include dim=X as an argument.\n",
      "  x = torch.nn.functional.softmax(x)## When training/calculating losses using CrossEntropyLoss we should feed it raw logits, it applies softmax itself. When applying/getting probabilites, we should switch this on..annoying\n"
     ]
    },
    {
     "name": "stdout",
     "output_type": "stream",
     "text": [
      "Got Pytorch model\n"
     ]
    }
   ],
   "source": [
    "import numpy as np\n",
    "from torch.utils.data.sampler import SubsetRandomSampler\n",
    "indices = list(range(len(dataset)))\n",
    "split = int(np.floor(split_fraction * len(dataset)))\n",
    "train_indices,test_indices = indices[:split], indices[split:]\n",
    "train_sampler = SubsetRandomSampler(train_indices)\n",
    "test_sampler = SubsetRandomSampler(test_indices)\n",
    "from torch.utils.data import DataLoader\n",
    "train_loader = DataLoader(dataset, batch_size=batch_size,sampler=train_sampler, drop_last=True)\n",
    "test_loader = DataLoader(dataset, batch_size=batch_size,sampler=test_sampler, drop_last=False)\n",
    "#%load_ext tensorboard\n",
    "import XGB_board\n",
    "xmini,ymini,wmini = next(iter(train_loader))\n",
    "board = XGB_board.board_object(model,xmini=xmini, device=device, output_dir=\"full_log/\")\n",
    "#%tensorboard --logdir board.save_dir"
   ]
  },
  {
   "cell_type": "code",
   "execution_count": 12,
   "metadata": {},
   "outputs": [
    {
     "data": {
      "text/plain": [
       "Reusing TensorBoard on port 6006 (pid 5013), started 13:08:15 ago. (Use '!kill 5013' to kill it.)"
      ]
     },
     "metadata": {},
     "output_type": "display_data"
    },
    {
     "data": {
      "text/html": [
       "\n",
       "      <iframe id=\"tensorboard-frame-db146df2b574f39c\" width=\"100%\" height=\"800\" frameborder=\"0\">\n",
       "      </iframe>\n",
       "      <script>\n",
       "        (function() {\n",
       "          const frame = document.getElementById(\"tensorboard-frame-db146df2b574f39c\");\n",
       "          const url = new URL(\"/\", window.location);\n",
       "          url.port = 6006;\n",
       "          frame.src = url;\n",
       "        })();\n",
       "      </script>\n",
       "  "
      ],
      "text/plain": [
       "<IPython.core.display.HTML object>"
      ]
     },
     "metadata": {},
     "output_type": "display_data"
    }
   ],
   "source": [
    "%load_ext tensorboard\n",
    "%tensorboard --logdir  full_log --bind_all"
   ]
  },
  {
   "cell_type": "code",
   "execution_count": 13,
   "metadata": {},
   "outputs": [
    {
     "name": "stderr",
     "output_type": "stream",
     "text": [
      "100%|██████████| 30/30 [1:18:02<00:00, 156.08s/it]\n"
     ]
    },
    {
     "data": {
      "text/plain": [
       "Cat(\n",
       "  (dropout10): AlphaDropout(p=0.1, inplace=False)\n",
       "  (dropout20): AlphaDropout(p=0.2, inplace=False)\n",
       "  (dropout30): AlphaDropout(p=0.3, inplace=False)\n",
       "  (linear_input): Linear(in_features=35, out_features=140, bias=True)\n",
       "  (linear1): Linear(in_features=140, out_features=140, bias=True)\n",
       "  (linear2): Linear(in_features=140, out_features=140, bias=True)\n",
       "  (linear3): Linear(in_features=140, out_features=140, bias=True)\n",
       "  (linear4): Linear(in_features=140, out_features=140, bias=True)\n",
       "  (linear5): Linear(in_features=140, out_features=140, bias=True)\n",
       "  (linear_output): Linear(in_features=140, out_features=5, bias=True)\n",
       ")"
      ]
     },
     "execution_count": 13,
     "metadata": {},
     "output_type": "execute_result"
    }
   ],
   "source": [
    "from datetime import datetime\n",
    "from tqdm import tqdm\n",
    "for epoch in tqdm(range(epochs)):\n",
    "    model.train()\n",
    "    for local_batch, local_labels, local_weights in train_loader:\n",
    "        local_batch, local_labels, local_weights = local_batch.to(device), local_labels.to(device), local_weights.to(device)\n",
    "        optimiser.zero_grad()\n",
    "        if doWeighted:\n",
    "            criterion = torch.nn.CrossEntropyLoss( weight = ut.get_batch_weights(local_labels,local_weights,(len(class_names)),doMonoSigWgt))\n",
    "        elif doReWeight:\n",
    "            criterion = torch.nn.CrossEntropyLoss( weight = class_weights)\n",
    "        out = model(local_batch.float())\n",
    "        loss = criterion(out, local_labels)\n",
    "        loss.backward()\n",
    "        optimiser.step()\n",
    "    model.eval()\n",
    "    with torch.no_grad():\n",
    "        if doWeighted:\n",
    "            valid_loss = 0\n",
    "            train_loss = 0\n",
    "            for xb, yb, wb in test_loader:\n",
    "                criterion = torch.nn.CrossEntropyLoss( weight = ut.get_batch_weights(yb,wb,(len(class_names)),doMonoSigWgt))\n",
    "                valid_loss = valid_loss + criterion(model(xb.float()), yb)\n",
    "            for xb, yb, wb in train_loader:\n",
    "                criterion = torch.nn.CrossEntropyLoss( weight = ut.get_batch_weights(yb,wb,(len(class_names)),doMonoSigWgt))\n",
    "                train_loss = train_loss + criterion(model(xb.float()), yb)\n",
    "        else:\n",
    "            valid_loss = sum(criterion(model(xb.float()), yb) for xb, yb, wb in test_loader)\n",
    "            train_loss = sum(criterion(model(xb.float()), yb) for xb, yb, wb in train_loader)\n",
    "    test_loss = valid_loss/len(test_loader)\n",
    "    train_loss = train_loss/len(train_loader)\n",
    "    board.writer.add_scalars(\"Losses\",{\"validation_loss/epoch\":test_loss,\n",
    "                                        \"train_loss/epoch\":train_loss,},epoch)\n",
    "model.eval() #Start evaluation"
   ]
  },
  {
   "cell_type": "code",
   "execution_count": 14,
   "metadata": {},
   "outputs": [],
   "source": [
    "import utils.utils as ut\n",
    "ut.save_model(model, board.save_dir,train_loader)"
   ]
  },
  {
   "cell_type": "code",
   "execution_count": 15,
   "metadata": {},
   "outputs": [
    {
     "name": "stderr",
     "output_type": "stream",
     "text": [
      "Pytorch_board :: INFO     ::       Getting input lists\n",
      "100%|██████████| 873/873 [01:03<00:00, 13.70it/s]\n",
      "Pytorch_board :: INFO     ::       Finished getting test inputs\n",
      "100%|██████████| 3488/3488 [06:40<00:00,  8.71it/s]\n",
      "Pytorch_board :: INFO     ::       Finished getting train inputs\n"
     ]
    }
   ],
   "source": [
    "board.get_inputs(train_loader, test_loader)"
   ]
  },
  {
   "cell_type": "code",
   "execution_count": 16,
   "metadata": {},
   "outputs": [
    {
     "name": "stderr",
     "output_type": "stream",
     "text": [
      "XGB_board    :: INFO     ::       PValue background KS: 1.0\n",
      "XGB_board    :: INFO     ::       PValue signal KS: 0.11262550123191739\n",
      "Info in <TCanvas::Print>: png file full_log/2020-08-20/12:46:29.156165/root_hists.png has been created\n",
      "Info in <TH1F::Chi2TestX>: There is a bin in h1 with less than 10 effective events.\n",
      "\n",
      "Info in <TH1F::Chi2TestX>: There is a bin in h2 with less than 10 effective events.\n",
      "\n",
      "Info in <TH1F::Chi2TestX>: There is a bin in h2 with less than 10 effective events.\n",
      "\n",
      "Info in <TCanvas::Print>: png file full_log/2020-08-20/12:46:29.156165/root_norm_hists.png has been created\n"
     ]
    },
    {
     "name": "stdout",
     "output_type": "stream",
     "text": [
      "Time to plot with ROOT: 0:00:39.138722\n"
     ]
    },
    {
     "data": {
      "image/png": "[encoded data removed]",
      "text/plain": [
       "<IPython.core.display.Image object>"
      ]
     },
     "metadata": {},
     "output_type": "display_data"
    }
   ],
   "source": [
    "c = board.draw_train_test_root()\n",
    "c.Draw()"
   ]
  },
  {
   "cell_type": "markdown",
   "metadata": {},
   "source": [
    "ROC curves per class"
   ]
  },
  {
   "cell_type": "code",
   "execution_count": 17,
   "metadata": {},
   "outputs": [
    {
     "data": {
      "text/plain": [
       "0.9050232646701489"
      ]
     },
     "execution_count": 17,
     "metadata": {},
     "output_type": "execute_result"
    }
   ],
   "source": [
    "%matplotlib inline\n",
    "import importlib\n",
    "importlib.reload(XGB_board)\n",
    "#new_board = XGB_board.board_object(model,xmini=xmini, device=device, output_dir=\"current_log/\")\n",
    "#new_board.get_inputs(train_loader, test_loader)\n",
    "auc, curve = board.get_roc(class_ = \"Signal\")\n",
    "auc"
   ]
  },
  {
   "cell_type": "code",
   "execution_count": 18,
   "metadata": {},
   "outputs": [
    {
     "data": {
      "text/plain": [
       "<sklearn.metrics._plot.roc_curve.RocCurveDisplay at 0x7fa3b6faa2e8>"
      ]
     },
     "execution_count": 18,
     "metadata": {},
     "output_type": "execute_result"
    },
    {
     "data": {
      "image/png": "[encoded data removed]",
      "text/plain": [
       "<Figure size 432x288 with 1 Axes>"
      ]
     },
     "metadata": {
      "needs_background": "light"
     },
     "output_type": "display_data"
    }
   ],
   "source": [
    "curve.ax_.legend(\"Signal ROC, ACU: %f\"%(auc))\n",
    "curve.plot()"
   ]
  },
  {
   "cell_type": "code",
   "execution_count": 19,
   "metadata": {},
   "outputs": [],
   "source": [
    "h_params={}\n",
    "h_params[\"learning_rate\"] = NN_driver.lr\n",
    "h_params[\"batch_size\"] = NN_driver.batch_size\n",
    "h_params[\"doWeighted\"] = NN_driver.doWeighted\n",
    "h_params[\"doReWeight\"] = NN_driver.doReWeight\n",
    "h_params[\"split_fraction\"] = NN_driver.split_fraction"
   ]
  },
  {
   "cell_type": "code",
   "execution_count": 20,
   "metadata": {},
   "outputs": [],
   "source": [
    "metric_params = {}\n",
    "metric_params[\"Signal_AUC\"]=auc\n",
    "metric_params[\"PValue_bkg\"]=board.pval_bkg_KS\n",
    "metric_params[\"PValue_sig\"]=board.pval_sig_KS"
   ]
  },
  {
   "cell_type": "code",
   "execution_count": 21,
   "metadata": {},
   "outputs": [],
   "source": [
    "board.writer.add_hparams(h_params, metric_params)"
   ]
  },
  {
   "cell_type": "markdown",
   "metadata": {},
   "source": [
    "Let's do some detailed analysis"
   ]
  },
  {
   "cell_type": "code",
   "execution_count": 22,
   "metadata": {},
   "outputs": [
    {
     "name": "stderr",
     "output_type": "stream",
     "text": [
      "DatasetLoader :: INFO     ::       Loading a single sample\n",
      "numexpr.utils :: INFO     ::       Note: NumExpr detected 20 cores but \"NUMEXPR_MAX_THREADS\" not set, so enforcing safe limit of 8.\n",
      "numexpr.utils :: INFO     ::       NumExpr defaulting to 8 threads.\n",
      "Samples      :: INFO     ::       \n",
      "Samples      :: INFO     ::       Looking in path=/nfs/dust/atlas/user/hteagle/Wh_samples/Wh_21.2.112/MC/\n",
      "Samples      :: INFO     ::       Setup a TChain for sample=C1N2_Wh_300.0_150.0 with treename=CollectionTree_PFlow_\n",
      "Samples      :: INFO     ::       Adding sample to C1N2_Wh_300.0_150.0/CollectionTree_PFlow_ with pattern=*C1N2_Wh_hbb_300p0_150p0*\n"
     ]
    },
    {
     "name": "stdout",
     "output_type": "stream",
     "text": [
      "Regions: ['preSelection']\n"
     ]
    },
    {
     "name": "stderr",
     "output_type": "stream",
     "text": [
      "Samples      :: INFO     ::       Loaded chain C1N2_Wh_300.0_150.0/CollectionTree_PFlow_ with 11710 events\n",
      "Samples      :: WARNING  ::       For sample C1N2_Wh_300.0_150.0 a YearWeight of (  mcID==396716  ) ? (year<2017 ? 0.579366 : 0.420634) : year<2017 ? 0.260512 : year==2017 ? 0.318854 : year==2018 ? 0.420634  was set\n",
      "DatasetLoader :: INFO     ::       Using scaler: /nfs/dust/atlas/user/hteagle/PyAnalysisUtils/ML/NN/data/processed/scaler_Wh_21_2_112_reco_sig.save\n",
      "DatasetLoader :: INFO     ::       Loading a single sample\n",
      "Samples      :: INFO     ::       \n",
      "Samples      :: INFO     ::       Looking in path=/nfs/dust/atlas/user/hteagle/Wh_samples/Wh_21.2.112/MC/\n",
      "Samples      :: INFO     ::       Setup a TChain for sample=C1N2_Wh_350.0_200.0 with treename=CollectionTree_PFlow_\n",
      "Samples      :: INFO     ::       Adding sample to C1N2_Wh_350.0_200.0/CollectionTree_PFlow_ with pattern=*C1N2_Wh_hbb_350p0_200p0*\n",
      "Samples      :: INFO     ::       Loaded chain C1N2_Wh_350.0_200.0/CollectionTree_PFlow_ with 1366 events\n"
     ]
    },
    {
     "name": "stdout",
     "output_type": "stream",
     "text": [
      "Regions: ['preSelection']\n"
     ]
    },
    {
     "name": "stderr",
     "output_type": "stream",
     "text": [
      "DatasetLoader :: INFO     ::       Using scaler: /nfs/dust/atlas/user/hteagle/PyAnalysisUtils/ML/NN/data/processed/scaler_Wh_21_2_112_reco_sig.save\n",
      "DatasetLoader :: INFO     ::       Loading a single sample\n",
      "Samples      :: INFO     ::       \n",
      "Samples      :: INFO     ::       Looking in path=/nfs/dust/atlas/user/hteagle/Wh_samples/Wh_21.2.112/MC/\n",
      "Samples      :: INFO     ::       Setup a TChain for sample=C1N2_Wh_400.0_250.0 with treename=CollectionTree_PFlow_\n",
      "Samples      :: INFO     ::       Adding sample to C1N2_Wh_400.0_250.0/CollectionTree_PFlow_ with pattern=*C1N2_Wh_hbb_400p0_250p0*\n",
      "Samples      :: INFO     ::       Loaded chain C1N2_Wh_400.0_250.0/CollectionTree_PFlow_ with 1303 events\n",
      "DatasetLoader :: INFO     ::       Using scaler: /nfs/dust/atlas/user/hteagle/PyAnalysisUtils/ML/NN/data/processed/scaler_Wh_21_2_112_reco_sig.save\n"
     ]
    },
    {
     "name": "stdout",
     "output_type": "stream",
     "text": [
      "Regions: ['preSelection']\n"
     ]
    },
    {
     "name": "stderr",
     "output_type": "stream",
     "text": [
      "DatasetLoader :: INFO     ::       Loading a single sample\n",
      "Samples      :: INFO     ::       \n",
      "Samples      :: INFO     ::       Looking in path=/nfs/dust/atlas/user/hteagle/Wh_samples/Wh_21.2.112/MC/\n",
      "Samples      :: INFO     ::       Setup a TChain for sample=C1N2_Wh_450.0_300.0 with treename=CollectionTree_PFlow_\n",
      "Samples      :: INFO     ::       Adding sample to C1N2_Wh_450.0_300.0/CollectionTree_PFlow_ with pattern=*C1N2_Wh_hbb_450p0_300p0*\n",
      "Samples      :: INFO     ::       Loaded chain C1N2_Wh_450.0_300.0/CollectionTree_PFlow_ with 997 events\n",
      "DatasetLoader :: INFO     ::       Using scaler: /nfs/dust/atlas/user/hteagle/PyAnalysisUtils/ML/NN/data/processed/scaler_Wh_21_2_112_reco_sig.save\n"
     ]
    },
    {
     "name": "stdout",
     "output_type": "stream",
     "text": [
      "Regions: ['preSelection']\n"
     ]
    }
   ],
   "source": [
    "to_load = [\"C1N2_Wh_300.0_150.0\", \"C1N2_Wh_350.0_200.0\", \"C1N2_Wh_400.0_250.0\", \"C1N2_Wh_450.0_300.0\"]\n",
    "signal_samples = [ dataset.process(single_sample=sam) for sam in to_load]"
   ]
  },
  {
   "cell_type": "code",
   "execution_count": 23,
   "metadata": {},
   "outputs": [
    {
     "name": "stdout",
     "output_type": "stream",
     "text": [
      "Drawing single samples\n"
     ]
    },
    {
     "name": "stderr",
     "output_type": "stream",
     "text": [
      "../modules.py:64: UserWarning: Implicit dimension choice for softmax has been deprecated. Change the call to include dim=X as an argument.\n",
      "  x = torch.nn.functional.softmax(x)## When training/calculating losses using CrossEntropyLoss we should feed it raw logits, it applies softmax itself. When applying/getting probabilites, we should switch this on..annoying\n",
      "XGB_board    :: INFO     ::       Cumulative significance (10 bins) C1N2_Wh_300.0_150.0: 3.983015\n",
      "XGB_board    :: INFO     ::       Cumulative significance (10 bins) C1N2_Wh_350.0_200.0: 2.590794\n",
      "XGB_board    :: INFO     ::       Cumulative significance (10 bins) C1N2_Wh_400.0_250.0: 1.616690\n",
      "XGB_board    :: INFO     ::       Cumulative significance (10 bins) C1N2_Wh_450.0_300.0: 1.668492\n",
      "Info in <TCanvas::Print>: png file full_log/2020-08-20/12:46:29.156165/root_single_hists.png has been created\n"
     ]
    },
    {
     "data": {
      "image/png": "[encoded data removed]",
      "text/plain": [
       "<IPython.core.display.Image object>"
      ]
     },
     "metadata": {},
     "output_type": "display_data"
    }
   ],
   "source": [
    "# import importlib\n",
    "# importlib.reload(XGB_board)\n",
    "# model.cuda()\n",
    "# new_board = XGB_board.board_object(model,xmini=xmini, device=device, output_dir=\"temp/\")\n",
    "# new_board.get_inputs(train_loader, test_loader)\n",
    "model.cpu()\n",
    "c = board.draw_single_samples_root(signal_samples, to_load)\n",
    "c.Draw()"
   ]
  },
  {
   "cell_type": "code",
   "execution_count": null,
   "metadata": {},
   "outputs": [],
   "source": [
    "\n"
   ]
  },
  {
   "cell_type": "code",
   "execution_count": null,
   "metadata": {},
   "outputs": [],
   "source": []
  }
 ],
 "metadata": {
  "kernelspec": {
   "display_name": "Python 3",
   "language": "python",
   "name": "python3"
  },
  "language_info": {
   "codemirror_mode": {
    "name": "ipython",
    "version": 3
   },
   "file_extension": ".py",
   "mimetype": "text/x-python",
   "name": "python",
   "nbconvert_exporter": "python",
   "pygments_lexer": "ipython3",
   "version": "3.6.8"
  }
 },
 "nbformat": 4,
 "nbformat_minor": 4
}
